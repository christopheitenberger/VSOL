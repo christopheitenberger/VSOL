{
 "cells": [
  {
   "cell_type": "code",
   "execution_count": null,
   "metadata": {},
   "outputs": [],
   "source": [
    "import seaborn as sns\n",
    "import sys\n",
    "import matplotlib.pyplot as plt\n",
    "from itertools import product\n",
    "\n",
    "%matplotlib inline\n",
    "%reload_ext autoreload\n",
    "%autoreload 2\n",
    "sys.path.append('../src/')\n",
    "\n",
    "from model_data_loader import MNISTDataLoader, AGNewsDataLoader\n",
    "from data_splitter import DataSplitOnOff\n",
    "from models_with_training_and_evaluation import TwoBidirectionalLSTM, TwoByTwoConvLayeredNN\n",
    "from nn_compression_pipeline import *\n",
    "from compression_pipeline_test_runner import *\n",
    "from configuration_creator.compression_different_algorithms_per_layers_combination_creator import CompressionDifferentAlgorithmsPerLayersCombinationCreator\n",
    "import np_utils\n",
    "from np_utils import ProcessingCache\n",
    "from visualization_utils import *\n",
    "\n",
    "FIG_FOLDER = './figs_for_thesis/'\n",
    "TABLE_FOLDER = './tables_for_thesis/'\n",
    "CACHE_FOLDER = './cached_processing_data/'\n",
    "OFFLINE_MODEL_FOLDER = './model_offline_save'\n",
    "ONLINE_MODEL_AND_EVALUATION_RESULTS_FOLDER = './model_save_runs'\n",
    "TRAINING_DATA_FOLDER = '../data'\n",
    "MNIST_DATA_FOLDER = f'{TRAINING_DATA_FOLDER}/mnist'\n",
    "AG_NEWS_DATA_FOLDER = f'{TRAINING_DATA_FOLDER}/ag_news'\n",
    "\n",
    "save_values = ProcessingCache(file_folder=CACHE_FOLDER, debug_print=True)\n",
    "\n",
    "\n",
    "def plot_show_and_save_if_filename(file_name=None):\n",
    "    if file_name is not None:\n",
    "        plt.savefig(FIG_FOLDER + file_name, bbox_inches='tight', dpi=1200)\n",
    "    plt.show()\n",
    "\n",
    "\n",
    "sns.set(style='white', context='notebook', palette='deep')\n",
    "random_seed = 2"
   ]
  },
  {
   "cell_type": "markdown",
   "source": [
    "## Load Used Datasets"
   ],
   "metadata": {
    "collapsed": false
   }
  },
  {
   "cell_type": "code",
   "execution_count": null,
   "metadata": {},
   "outputs": [],
   "source": [
    "mnist_data_loader = MNISTDataLoader(path_to_data=MNIST_DATA_FOLDER)\n",
    "vocab_size = 10000\n",
    "sentence_length = 100\n",
    "ag_news_data_loader = AGNewsDataLoader(vocab_size, sentence_length, path_to_data=AG_NEWS_DATA_FOLDER)\n",
    "\n",
    "mnist_data_loader.print_label_distribution()\n",
    "ag_news_data_loader.print_label_distribution()\n"
   ]
  },
  {
   "cell_type": "code",
   "execution_count": null,
   "metadata": {},
   "outputs": [],
   "source": [
    "upm_online = 0.5\n",
    "tb_online = 150\n",
    "u_poff_mnist = 0.0001\n",
    "u_poff_lstm = 0.001\n",
    "number_of_online_batches = None\n",
    "# number_of_online_batches = 10\n",
    "data_split_mnist = DataSplitOnOff(mnist_data_loader,\n",
    "                                  number_classes=10, batch_size=86,\n",
    "                                  random_seed=random_seed,\n",
    "                                  UPMonline=upm_online,\n",
    "                                  TBonline=tb_online,\n",
    "                                  UPoff=u_poff_mnist,\n",
    "                                  model_name=TwoByTwoConvLayeredNN.__name__,\n",
    "                                  number_of_online_batches=number_of_online_batches,\n",
    "                                  number_of_labels_to_use=4,\n",
    "                                  # debug_assert=True,\n",
    "                                  # debug_print=True,\n",
    "                                  )\n",
    "model_cnn = TwoByTwoConvLayeredNN(data_split_mnist, OFFLINE_MODEL_FOLDER, 10)\n",
    "data_split_lstm = DataSplitOnOff(ag_news_data_loader,\n",
    "                                 number_classes=4, batch_size=256,\n",
    "                                 random_seed=random_seed,\n",
    "                                 UPMonline=upm_online,\n",
    "                                 TBonline=tb_online,\n",
    "                                 UPoff=u_poff_lstm,\n",
    "                                 model_name=TwoBidirectionalLSTM.__name__,\n",
    "                                 number_of_online_batches=number_of_online_batches,\n",
    "                                 number_of_labels_to_use=4,\n",
    "                                 # debug_assert=True,\n",
    "                                 # debug_print=True,\n",
    "                                 )\n",
    "model_lstm = TwoBidirectionalLSTM(data_split_lstm, OFFLINE_MODEL_FOLDER, 10)\n",
    "\n",
    "\n",
    "def reset_model_split_settings(label_number=0):\n",
    "    model_cnn.data_split.set_selected_group(label_number)\n",
    "    model_cnn.data_split.override_split_settings(UPMonline=upm_online, TBonline=tb_online, UPoff=u_poff_mnist)\n",
    "\n",
    "    model_lstm.data_split.set_selected_group(label_number)\n",
    "    model_lstm.data_split.override_split_settings(UPMonline=upm_online, TBonline=tb_online, UPoff=u_poff_lstm)\n",
    "\n",
    "\n",
    "## model selection\n",
    "\n",
    "models_selection = ModelLabelAndIterationSelection([model_cnn, model_lstm])\n",
    "selected_models = models_selection.get_models()\n",
    "\n",
    "\n",
    "def run_on_selected_model(models_to_use, algorithm_combinations, rerun=False):\n",
    "    df_vis_of_run = []\n",
    "    runners_of_run = []\n",
    "    for model_to_use in models_to_use:\n",
    "        test_runner = TestRunnerForCompressionPipelinesAndDifferentDataAndModels(\n",
    "            ONLINE_MODEL_AND_EVALUATION_RESULTS_FOLDER,\n",
    "            model_to_use,\n",
    "            algorithm_combinations)\n",
    "\n",
    "        test_runner.run(rerun)\n",
    "        runners_of_run.append(test_runner)\n",
    "        df_vis_of_run.append(test_runner.get_metrics_df())\n",
    "\n",
    "    return df_vis_of_run, runners_of_run\n"
   ]
  },
  {
   "cell_type": "markdown",
   "metadata": {},
   "source": [
    "## Accuracy and Architecture of Used Models\n",
    "(used in '4.4 Selected Models and Data Sets')\n",
    "To show if chosen models are representative for other current models\n",
    "Size, architecture and accuracy shown"
   ]
  },
  {
   "cell_type": "code",
   "execution_count": null,
   "metadata": {},
   "outputs": [],
   "source": [
    "accuracy_test_data_of_offline_model_with_all_data_for_comparison \\\n",
    "    = [(model_loader.get_validation_accuracy_for_full_and_offline_only_model_with_all_data(),\n",
    "        model_loader.data_split.get_offline_only_model_name(), model_loader.get_total_params(True))\n",
    "       for model_loader in models_selection.get_models()]\n",
    "\n",
    "for accuracy, model_name, (params_total, params_per_layer, shapes_per_layer,\n",
    "                           summary) in accuracy_test_data_of_offline_model_with_all_data_for_comparison:\n",
    "    error_rate = (1 - accuracy) * 100\n",
    "    print(f'-- {error_rate:0.3}% Error Rate of {model_name} Model {params_total}')\n",
    "    print(summary)\n",
    "    print('\\n\\n')\n"
   ]
  },
  {
   "cell_type": "markdown",
   "source": [
    "# Determine Parameters for Drift Simulation\n",
    "(used in '4.5 Determine Data Split Parameter Settings for Virtual\n",
    "Drift Simulation')"
   ],
   "metadata": {
    "collapsed": false
   }
  },
  {
   "cell_type": "markdown",
   "source": [
    "## Determine TBOn Setting\n",
    "(Used in '4.5.1 Determine TBOn Setting')"
   ],
   "metadata": {
    "collapsed": false
   }
  },
  {
   "cell_type": "code",
   "execution_count": null,
   "metadata": {},
   "outputs": [],
   "source": [
    "# get accuracy for different TBOn settings\n",
    "models = models_selection.get_models()\n",
    "for model in models:\n",
    "    model.data_split.set_selected_group(0)\n",
    "    model.data_split.override_split_settings(UPMonline=0.5, TBonline=tb_online, UPoff=0)\n",
    "\n",
    "tb_online_accuracy_for_evaluations = get_run_data_for_different_params_for_all_labels('TBonline', [100, 125, 150, 160],\n",
    "                                                                                      models,\n",
    "                                                                                      save_values)\n",
    "reset_model_split_settings()\n"
   ]
  },
  {
   "cell_type": "code",
   "execution_count": null,
   "metadata": {},
   "outputs": [],
   "source": [
    "# visualize loaded data\n",
    "show_line_graph_of_table(tb_online_accuracy_for_evaluations, selected_value=[100, 150], label_number=2)\n",
    "plot_show_and_save_if_filename('online_split_params_determine_tbonline_extreme_compare_single_label')\n",
    "\n",
    "tb_online_table = process_table_to_overview_per_param(tb_online_accuracy_for_evaluations, 'TBonline')\n",
    "print_and_save_if_file_present_multi_column(tb_online_table, TABLE_FOLDER, 'online_split_params_determine_tbonline')\n"
   ]
  },
  {
   "cell_type": "markdown",
   "source": [
    "## Determine UPOff Setting\n",
    "(Used in '4.5.2 Determine UPOff Setting')"
   ],
   "metadata": {
    "collapsed": false
   }
  },
  {
   "cell_type": "code",
   "execution_count": null,
   "metadata": {},
   "outputs": [],
   "source": [
    "# get accuracy for different UPOff settings\n",
    "models = models_selection.get_models()\n",
    "for model in models:\n",
    "    model.data_split.set_selected_group(0)\n",
    "    model.data_split.override_split_settings(UPMonline=0.5, TBonline=150, UPoff=0)\n",
    "\n",
    "up_off_accuracy_for_evaluations = get_run_data_for_different_params_for_all_labels('UPoff', [0.0001, 0.001], models,\n",
    "                                                                                   save_values)\n",
    "reset_model_split_settings()\n"
   ]
  },
  {
   "cell_type": "code",
   "execution_count": null,
   "metadata": {},
   "outputs": [],
   "source": [
    "# visualize loaded data\n",
    "show_line_graph_of_table(up_off_accuracy_for_evaluations, label_number=2)\n",
    "plot_show_and_save_if_filename('online_split_params_determine_upoff_extreme_compare_single_label')\n",
    "\n",
    "u_poff_table = create_cross_table_from_run(up_off_accuracy_for_evaluations)\n",
    "u_poff_table = index_and_column_names_to_string_percent_from_fraction(u_poff_table)\n",
    "print_and_save_if_file_present_multi_column(u_poff_table, TABLE_FOLDER, 'online_split_params_determine_upoff')\n"
   ]
  },
  {
   "cell_type": "markdown",
   "source": [
    "## Determine UPMOn Setting\n",
    "(Used in '4.5.3 Determine UPMOn Setting')"
   ],
   "metadata": {
    "collapsed": false
   }
  },
  {
   "cell_type": "code",
   "execution_count": null,
   "metadata": {},
   "outputs": [],
   "source": [
    "# get accuracy for different UPMOn settings\n",
    "u_poff_mnist = 0.0001\n",
    "u_poff_lstm = 0.001\n",
    "models = models_selection.get_models()\n",
    "for model in models:\n",
    "    model.data_split.set_selected_group(0)\n",
    "    model_name = model.data_split.get_offline_only_model_name()\n",
    "    upoff = u_poff_mnist if NN_CONV in model_name else u_poff_lstm\n",
    "    model.data_split.override_split_settings(UPMonline=0.5, TBonline=150, UPoff=upoff)\n",
    "\n",
    "u_pmon_accuracy_for_evaluations = get_run_data_for_different_params_for_all_labels('UPMonline', [0.4, 0.5, 0.6], models,\n",
    "                                                                                   save_values)\n",
    "reset_model_split_settings()"
   ]
  },
  {
   "cell_type": "code",
   "execution_count": null,
   "metadata": {},
   "outputs": [],
   "source": [
    "# visualize loaded data\n",
    "show_line_graph_of_table(u_pmon_accuracy_for_evaluations, label_number=2)\n",
    "plot_show_and_save_if_filename('online_split_params_determine_upmonline_extreme_compare_single_label')\n",
    "\n",
    "u_pmon_table = create_cross_table_from_run(u_pmon_accuracy_for_evaluations)\n",
    "u_pmon_table = index_and_column_names_to_string_percent_from_fraction(u_pmon_table)\n",
    "print_and_save_if_file_present_multi_column(u_pmon_table, TABLE_FOLDER, 'online_split_params_determine_upmonline')\n"
   ]
  },
  {
   "cell_type": "markdown",
   "source": [
    "## Define Baselines for Upcoming Evaluations\n",
    "Since this block should define all baselines, `lower_bl_lossless_for_lossy_evaluation` and `upper_bl_general_purpose_compression` are anticipated from the 'Lossless Algorithm Evaluations' "
   ],
   "metadata": {
    "collapsed": false
   }
  },
  {
   "cell_type": "code",
   "execution_count": null,
   "outputs": [],
   "source": [
    "upper_bl_pipeline_save_weights_directly = [[\n",
    "    PickleToFile(),\n",
    "]]\n",
    "\n",
    "upper_bl_general_purpose_compression = [[\n",
    "    PickleDump(),\n",
    "    ZSTDWithMeasurement(1),\n",
    "    PickleToFile(),\n",
    "]]\n",
    "\n",
    "lower_bl_lossless_for_lossy_evaluation = [[\n",
    "    Combine(np_utils.float_byte_wise_xor),\n",
    "    SplitFloatAndStackByByteSegments(),\n",
    "    PickleDump(),\n",
    "    ZSTDWithMeasurement(1),\n",
    "    PickleToFile(),\n",
    "    DifResetSaver(fixed_number_of_iterations=28),\n",
    "]]\n"
   ],
   "metadata": {}
  },
  {
   "cell_type": "markdown",
   "source": [
    "# Evaluation Lossless Configurations\n",
    "(Used in '4.7 Evaluation Lossless Configurations')"
   ],
   "metadata": {}
  },
  {
   "cell_type": "markdown",
   "source": [
    "## General Compression for Further Testing\n",
    "(Used in '4.7.1 General Compression for Further Testing')"
   ],
   "metadata": {
    "collapsed": false
   }
  },
  {
   "cell_type": "code",
   "execution_count": null,
   "metadata": {},
   "outputs": [],
   "source": [
    "# evaluate general compression for further testing\n",
    "general_compression_further_testing_configurations = CompressionDifferentAlgorithmsPerLayersCombinationCreator([\n",
    "    [PickleDump()],\n",
    "    [*[ZSTDWithMeasurement(p) for p in [1, 5, 10, 15, 22]],\n",
    "     *[BrotliWithMeasurement(p) for p in [1, 9, 10, 11]],\n",
    "     LZMAWithMeasurement(),\n",
    "     *[BZ2WithMeasurement(p) for p in [1, 9]],\n",
    "     *[ZLibWithMeasurement(p) for p in [1, 9]],\n",
    "     ],\n",
    "    [PickleToFile()],\n",
    "])\n",
    "general_compression_further_testing_evaluation_results = run_on_selected_model(\n",
    "    models_selection.get_models(),\n",
    "    []\n",
    "    + general_compression_further_testing_configurations.get_combinations_of_product_per_layer()\n",
    "    + upper_bl_pipeline_save_weights_directly\n",
    ")\n"
   ]
  },
  {
   "cell_type": "code",
   "execution_count": null,
   "metadata": {},
   "outputs": [],
   "source": [
    "# show table of evaluation\n",
    "general_compression_further_testing_table = create_grouped_comparison_table_for_different_nn(\n",
    "    *general_compression_further_testing_evaluation_results)\n",
    "\n",
    "general_compression_further_testing_table_sorted = sort_and_fill_na(general_compression_further_testing_table,\n",
    "                                                                    COMPRESSION_TIME_COL, NN_CONV)\n",
    "print_and_save_if_file_present_multi_column(\n",
    "    general_compression_further_testing_table_sorted, TABLE_FOLDER,\n",
    "    'general_compression_float_comparison'\n",
    ")\n"
   ]
  },
  {
   "cell_type": "markdown",
   "source": [
    "## Reset Point Frequency for Delta Creator\n",
    "(Used in '4.7.2 Reset Point Frequency for Delta Creator')"
   ],
   "metadata": {
    "collapsed": false
   }
  },
  {
   "cell_type": "code",
   "execution_count": null,
   "metadata": {},
   "outputs": [],
   "source": [
    "# evaluate reset point frequency for delta creator\n",
    "\n",
    "reset_point_frequency_for_delta_creator_configurations = CompressionDifferentAlgorithmsPerLayersCombinationCreator([\n",
    "    [Combine(np_utils.float_byte_wise_xor)],\n",
    "    [PickleDump()],\n",
    "    [ZSTDWithMeasurement(1)],\n",
    "    [PickleToFile()],\n",
    "    [DifResetSaver(fixed_number_of_iterations=t) for t in\n",
    "     [4, 5, 6, 8, 10, 12, 13, 14, 15, 16, 17, 18, 20, 24, 28, 32, 36, 46, 49, 74, 148]],  # 149 is with save at end\n",
    "])\n",
    "\n",
    "reset_point_frequency_for_delta_creator_evaluation_results = run_on_selected_model(\n",
    "    models_selection.get_models(),\n",
    "    []\n",
    "    + reset_point_frequency_for_delta_creator_configurations.get_combinations_of_product_per_layer()\n",
    "    + upper_bl_general_purpose_compression\n",
    ")\n"
   ]
  },
  {
   "cell_type": "code",
   "execution_count": null,
   "metadata": {},
   "outputs": [],
   "source": [
    "## show decompression time to compression ratio graph of evaluation\n",
    "\n",
    "(df_vis, runners) = reset_point_frequency_for_delta_creator_evaluation_results\n",
    "\n",
    "reset_point_frequency_for_delta_creator_df_for_visualization = get_grouped_df_without_baselines_and_reset_frequency_as_algorithm_name_sorted(\n",
    "    df_vis)\n",
    "\n",
    "scatterplot_for_nn_types_grouped(reset_point_frequency_for_delta_creator_df_for_visualization)\n",
    "plot_show_and_save_if_filename('reset_point_delta-decompression_max_to_decompression_ratio-lossless')\n",
    "\n",
    "# show table of evaluation\n",
    "reset_point_frequency_for_delta_creator_table = create_grouped_comparison_table_for_different_nn(\n",
    "    *reset_point_frequency_for_delta_creator_evaluation_results)\n",
    "reset_point_frequency_for_delta_creator_table = only_keep_table_rows_containing_substrings_and_baseline(\n",
    "    reset_point_frequency_for_delta_creator_table, ['28', '148'])\n",
    "\n",
    "reset_point_frequency_for_delta_creator_table_sorted = sort_and_fill_na(reset_point_frequency_for_delta_creator_table,\n",
    "                                                                        COMPRESSION_TIME_COL, NN_CONV)\n",
    "print_and_save_if_file_present_multi_column(\n",
    "    reset_point_frequency_for_delta_creator_table_sorted, TABLE_FOLDER,\n",
    "    'lossless-chosen_reset_points-table')\n"
   ]
  },
  {
   "cell_type": "markdown",
   "source": [
    "## Different Bytewise Segmentation for Float Matrices Algorithms\n",
    "(Used in 4.7.3 Different Bytewise Segmentation for Float Matrices Algorithms')"
   ],
   "metadata": {
    "collapsed": false
   }
  },
  {
   "cell_type": "code",
   "execution_count": null,
   "metadata": {},
   "outputs": [],
   "source": [
    "# evaluate bytewise segmentation\n",
    "\n",
    "bytewise_segmentation_configurations = CompressionDifferentAlgorithmsPerLayersCombinationCreator([\n",
    "    [SplitFloatAndStack(), SplitFloatAndStackByByteSegmentsSplitLater(), SplitFloatAndStackByByteSegments()],\n",
    "    [PickleDump()],\n",
    "    [ZSTDWithMeasurement(1)],\n",
    "    [PickleToFile()],\n",
    "])\n",
    "\n",
    "bytewise_segmentation_evaluation_results = run_on_selected_model(\n",
    "    models_selection.get_models(),\n",
    "    []\n",
    "    + bytewise_segmentation_configurations.get_combinations_of_product_per_layer()\n",
    "    + upper_bl_general_purpose_compression\n",
    ")\n"
   ]
  },
  {
   "cell_type": "code",
   "execution_count": null,
   "metadata": {},
   "outputs": [],
   "source": [
    "# show table of evaluation\n",
    "bytewise_segmentation_table = create_grouped_comparison_table_for_different_nn(\n",
    "    *bytewise_segmentation_evaluation_results)\n",
    "bytewise_segmentation_table_sorted = sort_and_fill_na(bytewise_segmentation_table, COMPRESSION_RATIO_COL, NN_CONV)\n",
    "print_and_save_if_file_present_multi_column(\n",
    "    bytewise_segmentation_table_sorted, TABLE_FOLDER,\n",
    "    'lossless-float_split_compare-table')\n"
   ]
  },
  {
   "cell_type": "markdown",
   "source": [
    "## Combining General Compression and Bytewise Segmentation for Final Evaluation\n",
    "(Used in '4.7.4 Combining Selected General Compression and Bytewise\n",
    "Segmentation for Float Matrices Processing Steps for Full Run')"
   ],
   "metadata": {
    "collapsed": false
   }
  },
  {
   "cell_type": "code",
   "execution_count": null,
   "metadata": {},
   "outputs": [],
   "source": [
    "# evaluate general compression and bytewise segmentation\n",
    "general_compression_and_bytewise_segmentation_configurations = CompressionDifferentAlgorithmsPerLayersCombinationCreator(\n",
    "    [\n",
    "        [Combine(np_utils.float_byte_wise_xor)],\n",
    "        [SplitFloatAndStack(), SplitFloatAndStackByByteSegments()],\n",
    "        [PickleDump()],\n",
    "        [\n",
    "            *[ZSTDWithMeasurement(p) for p in [1, 15]],\n",
    "            *[BrotliWithMeasurement(p) for p in [1, 10]],\n",
    "            LZMAWithMeasurement(),\n",
    "            BZ2WithMeasurement(9),\n",
    "            ZLibWithMeasurement(9)\n",
    "        ],\n",
    "        [PickleToFile()],\n",
    "        [DifResetSaver(fixed_number_of_iterations=28)],\n",
    "    ]\n",
    ")\n",
    "\n",
    "general_compression_and_bytewise_segmentation_evaluation_results = run_on_selected_model(\n",
    "    models_selection.get_models(),\n",
    "    []\n",
    "    + general_compression_and_bytewise_segmentation_configurations.get_combinations_of_product_per_layer()\n",
    "    + upper_bl_general_purpose_compression\n",
    ")\n"
   ]
  },
  {
   "cell_type": "code",
   "execution_count": null,
   "metadata": {},
   "outputs": [],
   "source": [
    "# show table of evaluation\n",
    "general_compression_and_bytewise_segmentation_table = create_grouped_comparison_table_for_different_nn(\n",
    "    *general_compression_and_bytewise_segmentation_evaluation_results)\n",
    "\n",
    "general_compression_and_bytewise_segmentation_table_sorted = sort_and_fill_na(\n",
    "    general_compression_and_bytewise_segmentation_table, COMPRESSION_RATIO_COL, NN_CONV, False)\n",
    "print_and_save_if_file_present_multi_column(\n",
    "    general_compression_and_bytewise_segmentation_table_sorted,\n",
    "    TABLE_FOLDER,\n",
    "    'lossless_different_split_floats_with_general_compression_algs-table'\n",
    ")\n"
   ]
  },
  {
   "cell_type": "markdown",
   "source": [
    "## Final Evaluation Lossless Configurations\n",
    "(Used in '4.7.5 Final Evaluation Lossless Configurations')"
   ],
   "metadata": {
    "collapsed": false
   }
  },
  {
   "cell_type": "code",
   "execution_count": null,
   "metadata": {},
   "outputs": [],
   "source": [
    "# evaluate final lossless configurations\n",
    "\n",
    "zst_final_lossless_configurations = CompressionDifferentAlgorithmsPerLayersCombinationCreator([\n",
    "    [Combine(np_utils.float_byte_wise_xor)],\n",
    "    [SplitFloatAndStackByByteSegments()],\n",
    "    [PickleDump()],\n",
    "    [ZSTDWithMeasurement(1)],\n",
    "    [PickleToFile()],\n",
    "    [DifResetSaver(fixed_number_of_iterations=f) for f in [28, 148]],\n",
    "])\n",
    "\n",
    "lzma_final_lossless_configurations = CompressionDifferentAlgorithmsPerLayersCombinationCreator([\n",
    "    [Combine(np_utils.float_byte_wise_xor)],\n",
    "    [SplitFloatAndStack()],\n",
    "    [PickleDump()],\n",
    "    [LZMAWithMeasurement()],\n",
    "    [PickleToFile()],\n",
    "    [DifResetSaver(fixed_number_of_iterations=f) for f in [28, 148]],\n",
    "])\n",
    "\n",
    "final_lossless_configurations_evaluation_results = run_on_selected_model(\n",
    "    models_selection.get_models(),\n",
    "    []\n",
    "    + zst_final_lossless_configurations.get_combinations_of_product_per_layer()\n",
    "    + lzma_final_lossless_configurations.get_combinations_of_product_per_layer()\n",
    "    + upper_bl_general_purpose_compression\n",
    ")"
   ]
  },
  {
   "cell_type": "code",
   "execution_count": null,
   "metadata": {},
   "outputs": [],
   "source": [
    "# show table of evaluation\n",
    "final_lossless_configurations_table = create_grouped_comparison_table_for_different_nn(\n",
    "    *final_lossless_configurations_evaluation_results)\n",
    "final_lossless_configurations_table_sorted = sort_and_fill_na(\n",
    "    final_lossless_configurations_table, COMPRESSION_RATIO_COL, NN_CONV)\n",
    "\n",
    "print_and_save_if_file_present_multi_column(\n",
    "    final_lossless_configurations_table_sorted, TABLE_FOLDER,\n",
    "    'lossless_compression_all_combinations_final_run'\n",
    ")"
   ]
  },
  {
   "cell_type": "markdown",
   "metadata": {},
   "source": [
    "# Evaluation Lossy Configurations\n",
    "(Used in '4.8 Lossy Algorithms')"
   ]
  },
  {
   "cell_type": "markdown",
   "source": [
    "## Top-K\n",
    "(Used in '4.8.1 Top-K')"
   ],
   "metadata": {
    "collapsed": false
   }
  },
  {
   "cell_type": "code",
   "execution_count": null,
   "metadata": {},
   "outputs": [],
   "source": [
    "# evaluate Top-k for different ks\n",
    "selected_ks_for_top_k_evaluation = [0.0001, 0.001, 0.0025, 0.005, 0.01, 0.0175, 0.025, 0.05, 0.075, 0.1, 0.15, 0.25]\n",
    "\n",
    "top_k_configurations = CompressionDifferentAlgorithmsPerLayersCombinationCreator([\n",
    "    []\n",
    "    + [TopK(k, 0) for k in selected_ks_for_top_k_evaluation],\n",
    "    [Combine(np_utils.float_byte_wise_xor)],\n",
    "    [SplitFloatAndStackByByteSegments()],\n",
    "    [PickleDump()],\n",
    "    [ZSTDWithMeasurement(1)],\n",
    "    [PickleToFile()],\n",
    "    [DifResetSaver(fixed_number_of_iterations=28)],\n",
    "])\n",
    "\n",
    "top_k_evaluation_results = run_on_selected_model(\n",
    "    models_selection.get_models(),\n",
    "    []\n",
    "    + top_k_configurations.get_combinations_of_product_per_layer()\n",
    "    + lower_bl_lossless_for_lossy_evaluation\n",
    ")\n"
   ]
  },
  {
   "cell_type": "code",
   "execution_count": null,
   "metadata": {},
   "outputs": [],
   "source": [
    "# show table of evaluation\n",
    "top_k_table = create_grouped_comparison_table_for_different_nn_with_acc(*top_k_evaluation_results)\n",
    "top_k_table_sorted = sort_and_fill_na(top_k_table, MEAN_ACCURACY_DIFF_COL, NN_LSTM)\n",
    "print_and_save_if_file_present_multi_column(\n",
    "    top_k_table_sorted, TABLE_FOLDER,\n",
    "    'lossy_topk_all'\n",
    ")\n"
   ]
  },
  {
   "cell_type": "markdown",
   "source": [
    "## Using GCXS for Sparse Delta Weights\n",
    "(Used in '4.8.1 Top-K - Using GCXS for Spare Delta Weights')"
   ],
   "metadata": {
    "collapsed": false
   }
  },
  {
   "cell_type": "code",
   "execution_count": null,
   "metadata": {},
   "outputs": [],
   "source": [
    "# evaluate Using GCXS for Sparse Delta Weights\n",
    "gcxs_sparse_configurations = CompressionDifferentAlgorithmsPerLayersCombinationCreator([\n",
    "    []\n",
    "    + [TopK(k, 0) for k in [0.15, 0.0175]],\n",
    "    [Combine(np_utils.float_byte_wise_xor)],\n",
    "    [GCXS(l, r, False, False) for l, r in list(product([True, False], [True, False]))]\n",
    "    + [SplitFloatAndStackByByteSegments()],\n",
    "    [PickleDump()],\n",
    "    [ZSTDWithMeasurement(1)],\n",
    "    [PickleToFile()],\n",
    "    [DifResetSaver(fixed_number_of_iterations=28)],\n",
    "])\n",
    "\n",
    "gcxs_sparse_evaluation_results = run_on_selected_model(\n",
    "    models_selection.get_models(),\n",
    "    []\n",
    "    + gcxs_sparse_configurations.get_combinations_of_product_per_layer()\n",
    "    + lower_bl_lossless_for_lossy_evaluation\n",
    ")\n"
   ]
  },
  {
   "cell_type": "code",
   "execution_count": null,
   "metadata": {},
   "outputs": [],
   "source": [
    "# show table of evaluation\n",
    "gcxs_sparse_table = create_grouped_comparison_table_for_different_nn(*gcxs_sparse_evaluation_results)\n",
    "gcxs_sparse_table_sorted = sort_groups_by_regex_and_fill_na(\n",
    "    gcxs_sparse_table, COMPRESSION_RATIO_COL, NN_CONV, TABLE_GROUP_REG_SAME_K)\n",
    "print_and_save_if_file_present_multi_column(\n",
    "    gcxs_sparse_table_sorted, TABLE_FOLDER,\n",
    "    'lossy_topk_gcxs'\n",
    ")\n"
   ]
  },
  {
   "cell_type": "markdown",
   "source": [
    "## Compressing GCXS Indices\n",
    "(Used in '4.8.1 Top-K - Compressing GCXS Indices')"
   ],
   "metadata": {
    "collapsed": false
   }
  },
  {
   "cell_type": "code",
   "execution_count": null,
   "metadata": {},
   "outputs": [],
   "source": [
    "# evaluate Compressing GCXS Indices\n",
    "gxs_indices_compression_configuration = CompressionDifferentAlgorithmsPerLayersCombinationCreator([\n",
    "    []\n",
    "    + [TopK(k, 0) for k in [0.15, 0.0175]],\n",
    "    [Combine(np_utils.float_byte_wise_xor)],\n",
    "    []\n",
    "    + [GCXS(True, True, l, r) for l, r in list(product([True, False], [True, False]))],\n",
    "    [PickleDump()],\n",
    "    [ZSTDWithMeasurement(1)],\n",
    "    [PickleToFile()],\n",
    "    [DifResetSaver(fixed_number_of_iterations=28)],\n",
    "])\n",
    "\n",
    "gxs_indices_compression_evaluation_results = run_on_selected_model(models_selection.get_models(), []\n",
    "                                                                   + gxs_indices_compression_configuration.get_combinations_of_product_per_layer()\n",
    "                                                                   + lower_bl_lossless_for_lossy_evaluation\n",
    "                                                                   )"
   ]
  },
  {
   "cell_type": "code",
   "execution_count": null,
   "metadata": {},
   "outputs": [],
   "source": [
    "# show table of evaluation\n",
    "gxs_indices_compression_evaluation_results_table = create_grouped_comparison_table_for_different_nn(\n",
    "    *gxs_indices_compression_evaluation_results)\n",
    "gxs_indices_compression_evaluation_results_table_sorted = sort_groups_by_regex_and_fill_na(\n",
    "    gxs_indices_compression_evaluation_results_table, COMPRESSION_TIME_COL, NN_CONV, TABLE_GROUP_REG_SAME_K)\n",
    "print_and_save_if_file_present_multi_column(\n",
    "    gxs_indices_compression_evaluation_results_table_sorted,\n",
    "    TABLE_FOLDER, 'lossy_topk_gcxs_compressing_indixes'\n",
    ")"
   ]
  },
  {
   "cell_type": "markdown",
   "source": [
    "## Top-K Minimum per Layer\n",
    "(Used in '4.8.1 Top-K - Minimum per Layer')"
   ],
   "metadata": {
    "collapsed": false
   }
  },
  {
   "cell_type": "code",
   "execution_count": null,
   "metadata": {},
   "outputs": [],
   "source": [
    "# evaluating Minimum per Layer\n",
    "selected_ks_for_minimum_per_layer = [0.0175, 0.025, 0.05, 0.075, 0.15]\n",
    "\n",
    "selected_minimum_per_layer = [0, 0.001, 0.0001]\n",
    "selected_k_and_min_per_layer_for_minimum_per_layer = [\n",
    "    (k, min_p) for k, min_p in\n",
    "    product(selected_ks_for_minimum_per_layer, selected_minimum_per_layer) if k >= min_p]\n",
    "\n",
    "minimum_per_layer_configuration = CompressionDifferentAlgorithmsPerLayersCombinationCreator([\n",
    "    []\n",
    "    + [TopK(k, min_p) for k, min_p in selected_k_and_min_per_layer_for_minimum_per_layer],\n",
    "    [Combine(np_utils.float_byte_wise_xor)],\n",
    "    [GCXS(True, True, True, True)],\n",
    "    [PickleDump()],\n",
    "    [ZSTDWithMeasurement(1)],\n",
    "    [PickleToFile()],\n",
    "    [DifResetSaver(fixed_number_of_iterations=28)],\n",
    "])\n",
    "\n",
    "minimum_per_layer_evaluation_results = run_on_selected_model(\n",
    "    models_selection.get_models(),\n",
    "    []\n",
    "    + minimum_per_layer_configuration.get_combinations_of_product_per_layer()\n",
    "    + lower_bl_lossless_for_lossy_evaluation\n",
    ")"
   ]
  },
  {
   "cell_type": "code",
   "execution_count": null,
   "metadata": {},
   "outputs": [],
   "source": [
    "# show table of evaluation\n",
    "minimum_per_layer_evaluation_results_table = create_grouped_comparison_table_for_different_nn_with_acc(\n",
    "    *minimum_per_layer_evaluation_results)\n",
    "minimum_per_layer_evaluation_results_table_sorted = sort_and_fill_na(minimum_per_layer_evaluation_results_table,\n",
    "                                                                     MEAN_ACCURACY_DIFF_COL, NN_LSTM)\n",
    "print_and_save_if_file_present_multi_column(\n",
    "    minimum_per_layer_evaluation_results_table_sorted, TABLE_FOLDER,\n",
    "    'lossy_topk_all_with_mpl'\n",
    ")"
   ]
  },
  {
   "cell_type": "markdown",
   "source": [
    "## All Layers Top-K\n",
    "(Used in '4.8.1 Top-K - All Layers Top-K')"
   ],
   "metadata": {
    "collapsed": false
   }
  },
  {
   "cell_type": "code",
   "execution_count": null,
   "metadata": {},
   "outputs": [],
   "source": [
    "# evaluating All Layers Top-K\n",
    "selected_k_and_min_per_layer_for_minimum_per_layer_for_all_layers_top_k = [\n",
    "    (0.0750, 0.001),\n",
    "    (0.0500, 0.001),\n",
    "    (0.0175, 0.001),\n",
    "]\n",
    "\n",
    "all_layers_top_k_configurations = CompressionDifferentAlgorithmsPerLayersCombinationCreator([\n",
    "    []\n",
    "    + [TopK(k, min_p) for k, min_p in selected_k_and_min_per_layer_for_minimum_per_layer_for_all_layers_top_k]\n",
    "    + [TopKOverAllLayers(k, min_p) for k, min_p in\n",
    "       selected_k_and_min_per_layer_for_minimum_per_layer_for_all_layers_top_k],\n",
    "    [Combine(np_utils.float_byte_wise_xor)],\n",
    "    [GCXS(True, True, True, True)],\n",
    "    [PickleDump()],\n",
    "    [ZSTDWithMeasurement(1)],\n",
    "    [PickleToFile()],\n",
    "    [DifResetSaver(fixed_number_of_iterations=28)],\n",
    "])\n",
    "\n",
    "all_layers_top_k_evaluation_results = run_on_selected_model(\n",
    "    models_selection.get_models(),\n",
    "    []\n",
    "    + all_layers_top_k_configurations.get_combinations_of_product_per_layer()\n",
    "    + lower_bl_lossless_for_lossy_evaluation\n",
    ")\n"
   ]
  },
  {
   "cell_type": "code",
   "execution_count": null,
   "metadata": {},
   "outputs": [],
   "source": [
    "# show table of evaluation\n",
    "all_layers_top_k_table = create_grouped_comparison_table_for_different_nn_with_acc(*all_layers_top_k_evaluation_results)\n",
    "all_layers_top_k_table_sorted = sort_groups_by_regex_and_fill_na(\n",
    "    all_layers_top_k_table, MEAN_ACCURACY_DIFF_COL, NN_CONV, TABLE_GROUP_REG_SAME_K)\n",
    "print_and_save_if_file_present_multi_column(\n",
    "    all_layers_top_k_table_sorted, TABLE_FOLDER,\n",
    "    'lossy_topk_all_layers'\n",
    ")\n"
   ]
  },
  {
   "cell_type": "markdown",
   "source": [
    "## Loss Adaptive TkP\n",
    "(Used in '4.8.1 Top-K - Loss Adaptive TkP')"
   ],
   "metadata": {
    "collapsed": false
   }
  },
  {
   "cell_type": "code",
   "execution_count": null,
   "metadata": {},
   "outputs": [],
   "source": [
    "# visualize linegraph for loss adaptive transformation function\n",
    "convex_settings_to_visualize_for_loss_adaptive_k = [True, 0.1, 2, -0.5]\n",
    "lineplot_for_topk_loss_adaptive_curve_settings(convex_settings_to_visualize_for_loss_adaptive_k)\n",
    "plot_show_and_save_if_filename('lossy_top-k-loss-adaptive_used-convex-settings.png')\n"
   ]
  },
  {
   "cell_type": "code",
   "execution_count": null,
   "metadata": {},
   "outputs": [],
   "source": [
    "# evaluating loss adaptive TkP\n",
    "\n",
    "selected_k_and_min_per_layer_for_minimum_per_layer_for_loss_adaptive_k = [\n",
    "    (0.1000, 0.001),\n",
    "    (0.0750, 0.001),\n",
    "    (0.0500, 0.001),\n",
    "]\n",
    "\n",
    "convex_settings_to_evaluate_for_loss_adaptive_k = [False, True, 0.1, 2, -0.5]\n",
    "\n",
    "loss_adaptive_k_configurations = CompressionDifferentAlgorithmsPerLayersCombinationCreator([\n",
    "    [TopK(k, min_p, loss_adaptive_percentage_linear_or_convex=c) for k, min_p in\n",
    "     selected_k_and_min_per_layer_for_minimum_per_layer_for_loss_adaptive_k for c in\n",
    "     convex_settings_to_evaluate_for_loss_adaptive_k],\n",
    "    [Combine(np_utils.float_byte_wise_xor)],\n",
    "    [GCXS(True, True, True, True)],\n",
    "    [PickleDump()],\n",
    "    [ZSTDWithMeasurement(1)],\n",
    "    [PickleToFile()],\n",
    "    [DifResetSaver(fixed_number_of_iterations=28)],\n",
    "])\n",
    "\n",
    "loss_adaptive_k_evaluation_results = run_on_selected_model(\n",
    "    models_selection.get_models(),\n",
    "    []\n",
    "    + loss_adaptive_k_configurations.get_combinations_of_product_per_layer()\n",
    "    + lower_bl_lossless_for_lossy_evaluation\n",
    ")\n"
   ]
  },
  {
   "cell_type": "code",
   "execution_count": null,
   "metadata": {},
   "outputs": [],
   "source": [
    "# show table of evaluation\n",
    "loss_adaptive_k_table = create_grouped_comparison_table_for_different_nn_with_acc(*loss_adaptive_k_evaluation_results)\n",
    "loss_adaptive_k_table_sorted = sort_groups_by_regex_and_fill_na(\n",
    "    loss_adaptive_k_table, MEAN_ACCURACY_DIFF_COL, NN_CONV, TABLE_GROUP_REG_SAME_K)\n",
    "print_and_save_if_file_present_multi_column(\n",
    "    loss_adaptive_k_table_sorted, TABLE_FOLDER,\n",
    "    'eval_lossy_topk_loss_adaptive'\n",
    ")\n"
   ]
  },
  {
   "cell_type": "markdown",
   "source": [
    "## Reset Least Significant Bits\n",
    "(Used in '3.8.2 Reset Least Significant Bits')"
   ],
   "metadata": {
    "collapsed": false
   }
  },
  {
   "cell_type": "code",
   "execution_count": null,
   "metadata": {},
   "outputs": [],
   "source": [
    "# evaluate reset least significant bits when most significant bits set\n",
    "selected_numb_lower_bits_to_overwrite = [8, 16]\n",
    "selected_numb_higher_bits_diff = [4, 0, -4]\n",
    "selected_overwrite_bits_and_higher_diff = list(\n",
    "    product(selected_numb_lower_bits_to_overwrite, selected_numb_higher_bits_diff))\n",
    "selected_higher_and_lower_number_of_bits = (\n",
    "        [(23, h) for h in selected_numb_lower_bits_to_overwrite]\n",
    "        + [(23 - h - diff, h) for h, diff in selected_overwrite_bits_and_higher_diff]\n",
    ")\n",
    "\n",
    "reset_least_sig_when_most_sig_set_configurations = CompressionDifferentAlgorithmsPerLayersCombinationCreator([\n",
    "    [Combine(np_utils.float_byte_wise_xor)],\n",
    "    []\n",
    "    + [RemoveLowerFractionsIfHigherTrue(l, h) for l, h in selected_higher_and_lower_number_of_bits],\n",
    "    [SplitFloatAndStackByByteSegments()],\n",
    "    [PickleDump()],\n",
    "    [ZSTDWithMeasurement(1)],\n",
    "    [PickleToFile()],\n",
    "    [DifResetSaver(fixed_number_of_iterations=28)],\n",
    "])\n",
    "\n",
    "reset_least_sig_when_most_sig_set_evaluation_results = run_on_selected_model(\n",
    "    models_selection.get_models(),\n",
    "    []\n",
    "    + reset_least_sig_when_most_sig_set_configurations.get_combinations_of_product_per_layer()\n",
    "    + lower_bl_lossless_for_lossy_evaluation\n",
    ")"
   ]
  },
  {
   "cell_type": "code",
   "execution_count": null,
   "metadata": {},
   "outputs": [],
   "source": [
    "# show table of evaluation\n",
    "reset_least_sig_when_most_sig_set_table = create_grouped_comparison_table_for_different_nn_with_acc(\n",
    "    *reset_least_sig_when_most_sig_set_evaluation_results)\n",
    "regex_select_least_significant_bits = r'.*s(\\d+)b.*'\n",
    "reset_least_sig_when_most_sig_set_table_sorted = sort_groups_by_regex_and_fill_na(\n",
    "    reset_least_sig_when_most_sig_set_table, MEAN_ACCURACY_DIFF_COL, NN_CONV, regex_select_least_significant_bits)\n",
    "print_and_save_if_file_present_multi_column(\n",
    "    reset_least_sig_when_most_sig_set_table_sorted, TABLE_FOLDER,\n",
    "    'lossy_remove_lower_fractions_check_higher_bits'\n",
    ")"
   ]
  },
  {
   "cell_type": "code",
   "execution_count": null,
   "metadata": {},
   "outputs": [],
   "source": [
    "# evaluate reset least significant bits\n",
    "\n",
    "selected_bits_to_keep_least_sig = [16, 20, 21, 22, 23]\n",
    "selected_float_bits_to_keep = [(l, 32) for l in selected_bits_to_keep_least_sig]\n",
    "\n",
    "reset_least_sig_bits_configurations = CompressionDifferentAlgorithmsPerLayersCombinationCreator([\n",
    "    [Combine(np_utils.float_byte_wise_xor)],\n",
    "    [FloatRemoveSections(l, h) for l, h in selected_float_bits_to_keep],\n",
    "    [SplitFloatAndStackByByteSegments()],\n",
    "    [PickleDump()],\n",
    "    [ZSTDWithMeasurement(1)],\n",
    "    [PickleToFile()],\n",
    "    [DifResetSaver(fixed_number_of_iterations=28)],\n",
    "])\n",
    "\n",
    "reset_least_sig_bits_evaluation_results = run_on_selected_model(\n",
    "    models_selection.get_models(),\n",
    "    []\n",
    "    + reset_least_sig_bits_configurations.get_combinations_of_product_per_layer()\n",
    "    + lower_bl_lossless_for_lossy_evaluation\n",
    ")"
   ]
  },
  {
   "cell_type": "code",
   "execution_count": null,
   "metadata": {},
   "outputs": [],
   "source": [
    "# show table of evaluation\n",
    "reset_least_sig_bits_table = create_grouped_comparison_table_for_different_nn_with_acc(\n",
    "    *reset_least_sig_bits_evaluation_results)\n",
    "reset_least_sig_bits_table_sorted = sort_and_fill_na(reset_least_sig_bits_table, MEAN_ACCURACY_DIFF_COL, NN_CONV)\n",
    "print_and_save_if_file_present_multi_column(\n",
    "    reset_least_sig_bits_table_sorted, TABLE_FOLDER,\n",
    "    'lossy_remove_lower_fractions'\n",
    ")"
   ]
  },
  {
   "cell_type": "markdown",
   "source": [
    "## Save Decision through New Model\n",
    "(Used in '3.8.3 Save Decision through New Model')"
   ],
   "metadata": {
    "collapsed": false
   }
  },
  {
   "cell_type": "code",
   "execution_count": null,
   "outputs": [],
   "source": [
    "# evaluate Save Decision through New Model\n",
    "\n",
    "selected_percentage_bounds_for_save_decision = [0, 0.01]\n",
    "\n",
    "save_decision_through_model_configurations = CompressionDifferentAlgorithmsPerLayersCombinationCreator([\n",
    "    [Combine(np_utils.float_byte_wise_xor)],\n",
    "    [SkipSaveWhenAccuracyStillGood(p, l) for p in selected_percentage_bounds_for_save_decision for l in [True, False]],\n",
    "    [SplitFloatAndStackByByteSegments()],\n",
    "    [PickleDump()],\n",
    "    [ZSTDWithMeasurement(1)],\n",
    "    [PickleToFile()],\n",
    "    [DifResetSaver(fixed_number_of_iterations=28)],\n",
    "])\n",
    "\n",
    "save_decision_through_model_evaluation_results = run_on_selected_model(\n",
    "    models_selection.get_models(),\n",
    "    []\n",
    "    + save_decision_through_model_configurations.get_combinations_of_product_per_layer()\n",
    "    + lower_bl_lossless_for_lossy_evaluation\n",
    ")\n"
   ],
   "metadata": {}
  },
  {
   "cell_type": "code",
   "execution_count": null,
   "outputs": [],
   "source": [
    "# show table of evaluation\n",
    "save_decision_through_model_table = create_grouped_comparison_table_for_different_nn_with_acc(\n",
    "    *save_decision_through_model_evaluation_results)\n",
    "regex_select_percentage_value = r'.*g(\\d+)p.*'\n",
    "save_decision_through_model_table_sorted = sort_groups_by_regex_and_fill_na(save_decision_through_model_table,\n",
    "                                                                            MEAN_ACCURACY_DIFF_COL, NN_CONV, regex_select_percentage_value )\n",
    "print_and_save_if_file_present_multi_column(\n",
    "    save_decision_through_model_table_sorted,\n",
    "    TABLE_FOLDER, 'eval_lossy_skip_save_when_accuracy_still_good')"
   ],
   "metadata": {}
  },
  {
   "cell_type": "markdown",
   "source": [
    "## Combine Top-k and Reset Least Significant Bits Parameters\n",
    "(Used in '4.8.4 Combine Top-k and Reset Least Significant Bits Parameters')"
   ],
   "metadata": {
    "collapsed": false
   }
  },
  {
   "cell_type": "code",
   "execution_count": null,
   "metadata": {},
   "outputs": [],
   "source": [
    "# evaluate Combine Top-k and Reset Least Significant Bits Parameters\n",
    "\n",
    "selected_best_parameters_top_k = [\n",
    "    [0.0750, 0.001, -0.5],\n",
    "    [0.0750, 0.001, True],\n",
    "    [0.0500, 0.001, 2],\n",
    "]\n",
    "selected_float_bits_to_remove = [18, 20]\n",
    "\n",
    "top_k_and_reset_least_significant_bits_configurations = CompressionDifferentAlgorithmsPerLayersCombinationCreator([\n",
    "    []\n",
    "    + [TopK(k, min_p, loss_adaptive_percentage_linear_or_convex=c) for k, min_p, c in selected_best_parameters_top_k],\n",
    "    [Combine(np_utils.float_byte_wise_xor)],\n",
    "    [FloatRemoveSections(l, 32) for l in selected_float_bits_to_remove] + [None],\n",
    "    [GCXS(True, True, True, True)],\n",
    "    [PickleDump()],\n",
    "    [ZSTDWithMeasurement(1)],\n",
    "    [PickleToFile()],\n",
    "    [DifResetSaver(fixed_number_of_iterations=28)],\n",
    "])\n",
    "\n",
    "top_k_and_reset_least_significant_bits_evaluation_results = run_on_selected_model(\n",
    "    models_selection.get_models(),\n",
    "    []\n",
    "    + top_k_and_reset_least_significant_bits_configurations.get_combinations_of_product_per_layer()\n",
    "    + lower_bl_lossless_for_lossy_evaluation\n",
    ")\n"
   ]
  },
  {
   "cell_type": "code",
   "execution_count": null,
   "metadata": {},
   "outputs": [],
   "source": [
    "# show table of evaluation\n",
    "top_k_and_reset_least_significant_bits_table = create_grouped_comparison_table_for_different_nn_with_acc(\n",
    "    *top_k_and_reset_least_significant_bits_evaluation_results)\n",
    "top_k_and_reset_least_significant_bits_table = remove_shortened_algorithm_from_index_of_pivot_metrics_table(\n",
    "    top_k_and_reset_least_significant_bits_table, [GCXS_ALL_SETTINGS_TRUE])\n",
    "\n",
    "top_k_and_reset_least_significant_bits_table_sorted = sort_and_fill_na(\n",
    "    top_k_and_reset_least_significant_bits_table, MEAN_ACCURACY_DIFF_COL, NN_CONV)\n",
    "print_and_save_if_file_present_multi_column(\n",
    "    top_k_and_reset_least_significant_bits_table_sorted, TABLE_FOLDER,\n",
    "    'lossy_final_run_float_bits_and_top_k_combination')\n"
   ]
  },
  {
   "cell_type": "markdown",
   "source": [
    "## Selecting Fitting Lossy Configurations\n",
    "(Used in '4.8.5 Selecting Fitting Lossy Configurations')"
   ],
   "metadata": {
    "collapsed": false
   }
  },
  {
   "cell_type": "code",
   "execution_count": null,
   "metadata": {},
   "outputs": [],
   "source": [
    "# evaluate Selecting Fitting Lossy Configurations\n",
    "selected_best_parameters_top_k = [\n",
    "    [0.0750, 0.001, -0.5],\n",
    "    [0.0750, 0.001, True],\n",
    "    [0.0500, 0.001, 2],\n",
    "]\n",
    "\n",
    "selected_best_save_decision_parameters = [\n",
    "    [0, False],\n",
    "    [0.01, False],\n",
    "]\n",
    "\n",
    "selected_best_float_bits_to_keep_for_top_k = [[18, 32], [20, 32]]\n",
    "selected_best_float_bits_to_keep = [[20, 32]]\n",
    "\n",
    "final_lossy_with_top_k_configurations = CompressionDifferentAlgorithmsPerLayersCombinationCreator([\n",
    "    []\n",
    "    + [TopK(k, min_p, loss_adaptive_percentage_linear_or_convex=c) for k, min_p, c in selected_best_parameters_top_k],\n",
    "    [Combine(np_utils.float_byte_wise_xor)],\n",
    "    [FloatRemoveSections(l, h) for l, h in selected_best_float_bits_to_keep_for_top_k] + [None],\n",
    "    [SkipSaveWhenAccuracyStillGood(p, l) for p, l in selected_best_save_decision_parameters] + [None],\n",
    "    [GCXS(True, True, True, True)],\n",
    "    [PickleDump()],\n",
    "    [ZSTDWithMeasurement(1)],\n",
    "    [PickleToFile()],\n",
    "    [DifResetSaver(fixed_number_of_iterations=28)],\n",
    "])\n",
    "\n",
    "final_lossy_without_top_k_configurations = CompressionDifferentAlgorithmsPerLayersCombinationCreator([\n",
    "    [Combine(np_utils.float_byte_wise_xor)],\n",
    "    [FloatRemoveSections(l, h) for l, h in selected_best_float_bits_to_keep],\n",
    "    [SkipSaveWhenAccuracyStillGood(p, l) for p, l in selected_best_save_decision_parameters] + [None],\n",
    "    [SplitFloatAndStackByByteSegments()],\n",
    "    [PickleDump()],\n",
    "    [ZSTDWithMeasurement(1)],\n",
    "    [PickleToFile()],\n",
    "    [DifResetSaver(fixed_number_of_iterations=28)],\n",
    "])\n",
    "\n",
    "final_lossy_evaluation_results = run_on_selected_model(\n",
    "    models_selection.get_models(),\n",
    "    []\n",
    "    + final_lossy_with_top_k_configurations.get_combinations_of_product_per_layer()\n",
    "    + final_lossy_without_top_k_configurations.get_combinations_of_product_per_layer()\n",
    "    + lower_bl_lossless_for_lossy_evaluation\n",
    ")\n"
   ]
  },
  {
   "cell_type": "code",
   "execution_count": null,
   "metadata": {},
   "outputs": [],
   "source": [
    "# show table of evaluation\n",
    "final_lossy_table = create_grouped_comparison_table_for_different_nn_with_acc_without_decompression_time(\n",
    "    *final_lossy_evaluation_results)\n",
    "final_lossy_table = remove_shortened_algorithm_from_index_of_pivot_metrics_table(final_lossy_table,\n",
    "                                                                                 [GCXS_ALL_SETTINGS_TRUE])\n",
    "select_fast_slow_string = ['Skisg']\n",
    "\n",
    "# show table for Low Compression Time\n",
    "final_lossy_fast_table = only_keep_table_rows_containing_baseline_and_not_substrings(final_lossy_table,\n",
    "                                                                                     select_fast_slow_string)\n",
    "final_lossy_fast_table_sorted = sort_and_fill_na(final_lossy_fast_table, MEAN_ACCURACY_DIFF_COL, NN_CONV)\n",
    "print_and_save_if_file_present_multi_column(\n",
    "    final_lossy_fast_table_sorted, TABLE_FOLDER,\n",
    "    'lossy_final_run_without_skip')\n",
    "\n",
    "# show table for High General Compression\n",
    "final_lossy_slow_table = only_keep_table_rows_containing_substrings_and_baseline(final_lossy_table,\n",
    "                                                                                 select_fast_slow_string)\n",
    "final_lossy_slow_table_sorted = sort_and_fill_na(final_lossy_slow_table, MEAN_ACCURACY_DIFF_COL, NN_CONV)\n",
    "print_and_save_if_file_present_multi_column(\n",
    "    final_lossy_slow_table_sorted, TABLE_FOLDER,\n",
    "    'lossy_final_run_with_skip')\n"
   ]
  },
  {
   "cell_type": "markdown",
   "source": [
    "## Selecting Fitting Lossy Configurations\n",
    "(Used in '4.8.5 Selecting Fitting Lossy Configurations - Slower General Compression')"
   ],
   "metadata": {
    "collapsed": false
   }
  },
  {
   "cell_type": "code",
   "execution_count": null,
   "metadata": {},
   "outputs": [],
   "source": [
    "# evaluate Selecting Fitting Lossy Configurations\n",
    "high_compression_parameters_top_k = [\n",
    "    [0.0750, 0.001, -0.5],\n",
    "]\n",
    "\n",
    "highest_compression_parameters_save_decision = [\n",
    "    [0.01, False],\n",
    "]\n",
    "\n",
    "float_bits_to_keep = [[20, 32]]\n",
    "\n",
    "final_lossy_with_slow_general_compression_with_top_k_configurations = CompressionDifferentAlgorithmsPerLayersCombinationCreator(\n",
    "    [\n",
    "        []\n",
    "        + [TopK(k, min_p, loss_adaptive_percentage_linear_or_convex=c) for k, min_p, c in\n",
    "           high_compression_parameters_top_k],\n",
    "        [Combine(np_utils.float_byte_wise_xor)],\n",
    "        [FloatRemoveSections(l, h) for l, h in float_bits_to_keep],\n",
    "        [SkipSaveWhenAccuracyStillGood(p, l) for p, l in highest_compression_parameters_save_decision] + [None],\n",
    "        [GCXS(True, True, True, True)],\n",
    "        [PickleDump()],\n",
    "        [ZSTDWithMeasurement(1), LZMAWithMeasurement()],\n",
    "        [PickleToFile()],\n",
    "        [DifResetSaver(fixed_number_of_iterations=28)],\n",
    "    ])\n",
    "\n",
    "final_lossy_with_slow_general_compression_without_top_k_configurations = CompressionDifferentAlgorithmsPerLayersCombinationCreator(\n",
    "    [\n",
    "        [Combine(np_utils.float_byte_wise_xor)],\n",
    "        [FloatRemoveSections(l, h) for l, h in float_bits_to_keep],\n",
    "        [SkipSaveWhenAccuracyStillGood(p, l) for p, l in highest_compression_parameters_save_decision] + [None],\n",
    "        [SplitFloatAndStackByByteSegments()],\n",
    "        [PickleDump()],\n",
    "        [ZSTDWithMeasurement(1), LZMAWithMeasurement()],\n",
    "        [PickleToFile()],\n",
    "        [DifResetSaver(fixed_number_of_iterations=28)],\n",
    "    ])\n",
    "\n",
    "final_lossy_with_slow_general_compression_evaluation_results = run_on_selected_model(\n",
    "    models_selection.get_models(),\n",
    "    []\n",
    "    + final_lossy_with_slow_general_compression_with_top_k_configurations.get_combinations_of_product_per_layer()\n",
    "    + final_lossy_with_slow_general_compression_without_top_k_configurations.get_combinations_of_product_per_layer()\n",
    "    + lower_bl_lossless_for_lossy_evaluation\n",
    ")"
   ]
  },
  {
   "cell_type": "code",
   "execution_count": null,
   "metadata": {},
   "outputs": [],
   "source": [
    "# show table of evaluation\n",
    "final_lossy_with_slow_general_compression_table = create_grouped_comparison_table_for_different_nn(\n",
    "    *final_lossy_with_slow_general_compression_evaluation_results)\n",
    "final_lossy_with_slow_general_compression_table = remove_shortened_algorithm_from_index_of_pivot_metrics_table(\n",
    "    final_lossy_with_slow_general_compression_table, [GCXS_ALL_SETTINGS_TRUE])\n",
    "\n",
    "final_lossy_with_slow_general_compression_table_sorted = sort_and_fill_na(\n",
    "    final_lossy_with_slow_general_compression_table, COMPRESSION_RATIO_COL, NN_CONV)\n",
    "print_and_save_if_file_present_multi_column(\n",
    "    final_lossy_with_slow_general_compression_table_sorted, TABLE_FOLDER,\n",
    "    'lossy_final_run_slow_run_with_high_compression')"
   ]
  },
  {
   "cell_type": "markdown",
   "source": [
    "## Final Lossless Configurations with Different Reset Point Interval Settings\n",
    "(Used in '4.8.5 Selecting Fitting Lossy Configurations - Final Lossless Configurations with Different Reset Point Interval Settings')"
   ],
   "metadata": {
    "collapsed": false
   }
  },
  {
   "cell_type": "code",
   "execution_count": null,
   "metadata": {},
   "outputs": [],
   "source": [
    "# evaluate Final Lossy Configurations with Different Reset Point Interval Settings\n",
    "best_samples_from_last_run_top_k_selected = [\n",
    "    [0.0750, 0.001, -0.5],\n",
    "    [0.0750, 0.001, True],\n",
    "]\n",
    "\n",
    "best_acc_bound_selected = [\n",
    "    [0, False],\n",
    "    [0.01, False],\n",
    "]\n",
    "reset_point_iterations = [28, 148]\n",
    "\n",
    "float_bits_to_keep = [(20, 32)]\n",
    "\n",
    "final_lossy_rpi_fast_0_acc_configurations = CompressionDifferentAlgorithmsPerLayersCombinationCreator([\n",
    "    [Combine(np_utils.float_byte_wise_xor)],\n",
    "    [FloatRemoveSections(l, h) for l, h in float_bits_to_keep],\n",
    "    [SplitFloatAndStackByByteSegments()],\n",
    "    [PickleDump()],\n",
    "    [ZSTDWithMeasurement(1)],\n",
    "    [PickleToFile()],\n",
    "    [DifResetSaver(fixed_number_of_iterations=t) for t in reset_point_iterations],\n",
    "])\n",
    "\n",
    "final_lossy_rpi_fast_0p1_acc_configuration = CompressionDifferentAlgorithmsPerLayersCombinationCreator([\n",
    "    []\n",
    "    + [TopK(k, min_p, loss_adaptive_percentage_linear_or_convex=c) for k, min_p, c in\n",
    "       [(0.0750, 0.001, True)]],\n",
    "    [Combine(np_utils.float_byte_wise_xor)],\n",
    "    [FloatRemoveSections(l, h) for l, h in [(18, 32)]],\n",
    "    [GCXS(True, True, True, True)],\n",
    "    [PickleDump()],\n",
    "    [ZSTDWithMeasurement(1)],\n",
    "    [PickleToFile()],\n",
    "    [DifResetSaver(fixed_number_of_iterations=t) for t in reset_point_iterations],\n",
    "])\n",
    "\n",
    "final_lossy_rpi_slow_0p1_and_0_acc_configurations = CompressionDifferentAlgorithmsPerLayersCombinationCreator([\n",
    "    [Combine(np_utils.float_byte_wise_xor)],\n",
    "    [FloatRemoveSections(l, h) for l, h in float_bits_to_keep],\n",
    "    [SkipSaveWhenAccuracyStillGood(p, l) for p, l in best_acc_bound_selected],\n",
    "    [SplitFloatAndStackByByteSegments()],\n",
    "    [PickleDump()],\n",
    "    [ZSTDWithMeasurement(1)],\n",
    "    [PickleToFile()],\n",
    "    [DifResetSaver(fixed_number_of_iterations=t) for t in reset_point_iterations],\n",
    "])\n",
    "\n",
    "final_lossy_rpi_slow_and_fast_1_acc_configurations = CompressionDifferentAlgorithmsPerLayersCombinationCreator(\n",
    "    [\n",
    "        []\n",
    "        + [TopK(k, min_p, loss_adaptive_percentage_linear_or_convex=c) for k, min_p, c in\n",
    "           [(0.0750, 0.001, -0.5)]],\n",
    "        [Combine(np_utils.float_byte_wise_xor)],\n",
    "        [FloatRemoveSections(l, h) for l, h in float_bits_to_keep],\n",
    "        [SkipSaveWhenAccuracyStillGood(p, l) for p, l in [(0.01, False)]] + [None],\n",
    "        [GCXS(True, True, True, True)],\n",
    "        [PickleDump()],\n",
    "        [ZSTDWithMeasurement(1)],\n",
    "        [PickleToFile()],\n",
    "        [DifResetSaver(fixed_number_of_iterations=t) for t in reset_point_iterations],\n",
    "    ])\n",
    "\n",
    "final_lossy_rpi_slow_and_fast_evaluation_results = run_on_selected_model(\n",
    "    models_selection.get_models(),\n",
    "    []\n",
    "    + final_lossy_rpi_fast_0_acc_configurations.get_combinations_of_product_per_layer()\n",
    "    + final_lossy_rpi_fast_0p1_acc_configuration.get_combinations_of_product_per_layer()\n",
    "    + final_lossy_rpi_slow_0p1_and_0_acc_configurations.get_combinations_of_product_per_layer()\n",
    "    + final_lossy_rpi_slow_and_fast_1_acc_configurations.get_combinations_of_product_per_layer()\n",
    "    + upper_bl_general_purpose_compression\n",
    ")"
   ]
  },
  {
   "cell_type": "code",
   "execution_count": null,
   "metadata": {},
   "outputs": [],
   "source": [
    "# show table of evaluation\n",
    "final_lossy_rpi_slow_and_fast_table = create_grouped_comparison_table_for_different_nn_with_acc_without_decompression_time(\n",
    "    *final_lossy_rpi_slow_and_fast_evaluation_results)\n",
    "final_lossy_rpi_slow_and_fast_table = remove_shortened_algorithm_from_index_of_pivot_metrics_table(\n",
    "    final_lossy_rpi_slow_and_fast_table,\n",
    "    [GCXS_ALL_SETTINGS_TRUE, SPLIT_FLOAT_AND_STACK_BY_BYTE_SEGMENTS, '32r'])\n",
    "final_lossy_rpi_slow_and_fast_table_sorted = sort_and_fill_na(final_lossy_rpi_slow_and_fast_table,\n",
    "                                                              MEAN_ACCURACY_DIFF_COL, NN_CONV)\n",
    "print_and_save_if_file_present_multi_column(\n",
    "    final_lossy_rpi_slow_and_fast_table_sorted, TABLE_FOLDER,\n",
    "    'lossy_final_run_all_with_different_reset_points'\n",
    ")"
   ]
  }
 ],
 "metadata": {
  "kernelspec": {
   "display_name": "Python 3 (ipykernel)",
   "language": "python",
   "name": "python3"
  },
  "language_info": {
   "codemirror_mode": {
    "name": "ipython",
    "version": 3
   },
   "file_extension": ".py",
   "mimetype": "text/x-python",
   "name": "python",
   "nbconvert_exporter": "python",
   "pygments_lexer": "ipython3",
   "version": "3.10.11"
  }
 },
 "nbformat": 4,
 "nbformat_minor": 2
}
